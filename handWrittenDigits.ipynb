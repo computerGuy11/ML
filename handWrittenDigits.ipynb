{
  "nbformat": 4,
  "nbformat_minor": 0,
  "metadata": {
    "colab": {
      "provenance": [],
      "authorship_tag": "ABX9TyM8gBeXrVLRv+lMr3I4wygR",
      "include_colab_link": true
    },
    "kernelspec": {
      "name": "python3",
      "display_name": "Python 3"
    },
    "language_info": {
      "name": "python"
    }
  },
  "cells": [
    {
      "cell_type": "markdown",
      "metadata": {
        "id": "view-in-github",
        "colab_type": "text"
      },
      "source": [
        "<a href=\"https://colab.research.google.com/github/computerGuy11/Handwritten-digit-recognition-with-CNNs/blob/main/code.ipynb\" target=\"_parent\"><img src=\"https://colab.research.google.com/assets/colab-badge.svg\" alt=\"Open In Colab\"/></a>"
      ]
    },
    {
      "cell_type": "code",
      "execution_count": null,
      "metadata": {
        "id": "U4HoHMzd9aZL"
      },
      "outputs": [],
      "source": [
        "import tensorflow as tf\n",
        "import matplotlib.pyplot as plt\n",
        "import seaborn as sn\n",
        "import numpy as np # linear algebra\n",
        "import pandas as pd # data processing, CSV file I/O (e.g. pd.read_csv)\n",
        "import math\n",
        "import datetime\n",
        "import platform\n",
        "import keras\n",
        "from tensorflow.keras.optimizers.legacy import Adam\n",
        "tf.keras.datasets.mnist.load_data(\n",
        "    path='mnist.npz'\n",
        ")\n"
      ]
    },
    {
      "cell_type": "code",
      "source": [
        "(x_train, y_train), (x_test, y_test) = keras.datasets.mnist.load_data()\n",
        "assert x_train.shape == (60000, 28, 28)\n",
        "assert x_test.shape == (10000, 28, 28)\n",
        "assert y_train.shape == (60000,)\n",
        "assert y_test.shape == (10000,)\n",
        "\n"
      ],
      "metadata": {
        "id": "9RfL6QCg9uQ-"
      },
      "execution_count": 27,
      "outputs": []
    },
    {
      "cell_type": "code",
      "source": [
        "\n",
        "\n",
        "print('X_train:', x_train.shape)\n",
        "print('y_train:', y_train.shape)\n",
        "\n"
      ],
      "metadata": {
        "colab": {
          "base_uri": "https://localhost:8080/"
        },
        "id": "OLbmxcjw93km",
        "outputId": "9c8c4814-95d4-4070-ed8c-76f14c6bd816"
      },
      "execution_count": 32,
      "outputs": [
        {
          "output_type": "stream",
          "name": "stdout",
          "text": [
            "X_train: (60000, 28, 28)\n",
            "y_train: (60000,)\n"
          ]
        }
      ]
    },
    {
      "cell_type": "code",
      "source": [
        "\n",
        "\n",
        "# Save image parameters to the constants that we will use later for data re-shaping and for model traning.\n",
        "\n",
        "\n",
        "# Save image parameters to the constants that we will use later for data re-shaping and for model traning.\n",
        "(_, IMAGE_WIDTH, IMAGE_HEIGHT) = x_train.shape\n",
        "IMAGE_CHANNELS = 1\n",
        "\n",
        "print('IMAGE_WIDTH:', IMAGE_WIDTH);\n",
        "print('IMAGE_HEIGHT:', IMAGE_HEIGHT);\n",
        "print('IMAGE_CHANNELS:', IMAGE_CHANNELS);\n",
        "\n",
        "\n"
      ],
      "metadata": {
        "colab": {
          "base_uri": "https://localhost:8080/"
        },
        "id": "UO1F5Q8DBkDA",
        "outputId": "a78f89fb-67cf-4f7b-f36b-9845a53070b1"
      },
      "execution_count": 38,
      "outputs": [
        {
          "output_type": "stream",
          "name": "stdout",
          "text": [
            "IMAGE_WIDTH: 28\n",
            "IMAGE_HEIGHT: 28\n",
            "IMAGE_CHANNELS: 1\n"
          ]
        }
      ]
    },
    {
      "cell_type": "code",
      "source": [
        "\n",
        "\n",
        "x_train_with_chanels = x_train.reshape(\n",
        "    x_train.shape[0],\n",
        "    IMAGE_WIDTH,\n",
        "    IMAGE_HEIGHT,\n",
        "    IMAGE_CHANNELS\n",
        ")\n",
        "\n",
        "\n",
        "x_test_with_chanels = x_test.reshape(\n",
        "    x_test.shape[0],\n",
        "    IMAGE_WIDTH,\n",
        "    IMAGE_HEIGHT,\n",
        "    IMAGE_CHANNELS\n",
        ")\n",
        "\n"
      ],
      "metadata": {
        "id": "961BtWiHB_BF"
      },
      "execution_count": 47,
      "outputs": []
    },
    {
      "cell_type": "code",
      "source": [
        "\n",
        "\n",
        "x_train_normalized = x_train_with_chanels / 255\n",
        "x_test_normalized = x_test_with_chanels / 255\n",
        "\n"
      ],
      "metadata": {
        "id": "YgQYHkEyCl9Z"
      },
      "execution_count": 48,
      "outputs": []
    },
    {
      "cell_type": "code",
      "source": [
        "model = tf.keras.models.Sequential()\n",
        "\n",
        "model.add(tf.keras.layers.Convolution2D(\n",
        "    input_shape=(IMAGE_WIDTH, IMAGE_HEIGHT, IMAGE_CHANNELS),\n",
        "    kernel_size=5,\n",
        "    filters=8,\n",
        "    strides=1,\n",
        "    activation=tf.keras.activations.relu,\n",
        "    kernel_initializer=tf.keras.initializers.VarianceScaling()\n",
        "))\n",
        "\n",
        "model.add(tf.keras.layers.MaxPooling2D(\n",
        "    pool_size=(2, 2),\n",
        "    strides=(2, 2)\n",
        "))\n",
        "\n",
        "model.add(tf.keras.layers.Convolution2D(\n",
        "    kernel_size=5,\n",
        "    filters=16,\n",
        "    strides=1,\n",
        "    activation=tf.keras.activations.relu,\n",
        "    kernel_initializer=tf.keras.initializers.VarianceScaling()\n",
        "))\n",
        "\n",
        "model.add(tf.keras.layers.MaxPooling2D(\n",
        "    pool_size=(2, 2),\n",
        "    strides=(2, 2)\n",
        "))\n",
        "\n",
        "model.add(tf.keras.layers.Flatten())\n",
        "\n",
        "model.add(tf.keras.layers.Dense(\n",
        "    units=128,\n",
        "    activation=tf.keras.activations.relu\n",
        "));\n",
        "\n",
        "model.add(tf.keras.layers.Dropout(0.2))\n",
        "\n",
        "model.add(tf.keras.layers.Dense(\n",
        "    units=10,\n",
        "    activation=tf.keras.activations.softmax,\n",
        "    kernel_initializer=tf.keras.initializers.VarianceScaling()\n",
        "))"
      ],
      "metadata": {
        "id": "K5nYLEk-CtuC"
      },
      "execution_count": 49,
      "outputs": []
    },
    {
      "cell_type": "code",
      "source": [
        "model.summary()"
      ],
      "metadata": {
        "colab": {
          "base_uri": "https://localhost:8080/"
        },
        "id": "zXNQEX7MC4Px",
        "outputId": "3b301e27-3e6d-4edf-e203-232e3bcdccfe"
      },
      "execution_count": 50,
      "outputs": [
        {
          "output_type": "stream",
          "name": "stdout",
          "text": [
            "Model: \"sequential\"\n",
            "_________________________________________________________________\n",
            " Layer (type)                Output Shape              Param #   \n",
            "=================================================================\n",
            " conv2d (Conv2D)             (None, 24, 24, 8)         208       \n",
            "                                                                 \n",
            " max_pooling2d (MaxPooling2D  (None, 12, 12, 8)        0         \n",
            " )                                                               \n",
            "                                                                 \n",
            " conv2d_1 (Conv2D)           (None, 8, 8, 16)          3216      \n",
            "                                                                 \n",
            " max_pooling2d_1 (MaxPooling  (None, 4, 4, 16)         0         \n",
            " 2D)                                                             \n",
            "                                                                 \n",
            " flatten (Flatten)           (None, 256)               0         \n",
            "                                                                 \n",
            " dense (Dense)               (None, 128)               32896     \n",
            "                                                                 \n",
            " dropout (Dropout)           (None, 128)               0         \n",
            "                                                                 \n",
            " dense_1 (Dense)             (None, 10)                1290      \n",
            "                                                                 \n",
            "=================================================================\n",
            "Total params: 37,610\n",
            "Trainable params: 37,610\n",
            "Non-trainable params: 0\n",
            "_________________________________________________________________\n"
          ]
        }
      ]
    },
    {
      "cell_type": "code",
      "source": [
        "\n",
        "\n",
        "tf.keras.utils.plot_model(\n",
        "    model,\n",
        "    show_shapes=True,\n",
        "    show_layer_names=True,\n",
        ")\n",
        "\n"
      ],
      "metadata": {
        "colab": {
          "base_uri": "https://localhost:8080/",
          "height": 976
        },
        "id": "5HKcvHVLC_2z",
        "outputId": "7acf8a87-c5a3-479a-9112-12afd2460b9d"
      },
      "execution_count": 51,
      "outputs": [
        {
          "output_type": "execute_result",
          "data": {
            "image/png": "[encoded data removed]",
            "text/plain": [
              "<IPython.core.display.Image object>"
            ]
          },
          "metadata": {},
          "execution_count": 51
        }
      ]
    },
    {
      "cell_type": "code",
      "source": [
        "adam_optimizer = tf.keras.optimizers.Adam(learning_rate=0.001)\n",
        "\n",
        "model.compile(\n",
        "    optimizer=adam_optimizer,\n",
        "    loss=tf.keras.losses.sparse_categorical_crossentropy,\n",
        "    metrics=['accuracy']\n",
        ")"
      ],
      "metadata": {
        "id": "_F8OaoLdDKN5"
      },
      "execution_count": 52,
      "outputs": []
    },
    {
      "cell_type": "code",
      "source": [
        "\n",
        "\n",
        "log_dir=\".logs/fit/\" + datetime.datetime.now().strftime(\"%Y%m%d-%H%M%S\")\n",
        "tensorboard_callback = tf.keras.callbacks.TensorBoard(log_dir=log_dir, histogram_freq=1)\n",
        "\n",
        "training_history = model.fit(\n",
        "    x_train_normalized,\n",
        "    y_train,\n",
        "    epochs=2,\n",
        "    validation_data=(x_train, y_train),\n",
        "    callbacks=[tensorboard_callback]\n",
        ")\n",
        "\n",
        "print(\"The model has successfully trained\")\n",
        "\n"
      ],
      "metadata": {
        "colab": {
          "base_uri": "https://localhost:8080/"
        },
        "id": "WHqcnnsiDW0U",
        "outputId": "97902d70-1b37-4ca5-8c2c-e09ced0812c1"
      },
      "execution_count": 55,
      "outputs": [
        {
          "output_type": "stream",
          "name": "stdout",
          "text": [
            "Epoch 1/2\n",
            "1875/1875 [==============================] - 54s 29ms/step - loss: 0.0529 - accuracy: 0.9837 - val_loss: 4.5604 - val_accuracy: 0.9884\n",
            "Epoch 2/2\n",
            "1875/1875 [==============================] - 54s 29ms/step - loss: 0.0415 - accuracy: 0.9869 - val_loss: 4.1907 - val_accuracy: 0.9909\n",
            "The model has successfully trained\n"
          ]
        }
      ]
    },
    {
      "cell_type": "code",
      "source": [],
      "metadata": {
        "id": "qtefdyZAE5vP"
      },
      "execution_count": null,
      "outputs": []
    },
    {
      "cell_type": "code",
      "source": [
        "\n",
        "\n",
        "plt.xlabel('Epoch Number')\n",
        "plt.ylabel('Accuracy')\n",
        "plt.plot(training_history.history['loss'], label='training set')\n",
        "plt.plot(training_history.history['val_loss'], label='validation set')\n",
        "plt.legend()\n",
        "\n"
      ],
      "metadata": {
        "colab": {
          "base_uri": "https://localhost:8080/",
          "height": 296
        },
        "id": "ywr9Yw0VD3Pc",
        "outputId": "35dc4d3e-486c-4028-f6e1-c19a2567680a"
      },
      "execution_count": 56,
      "outputs": [
        {
          "output_type": "execute_result",
          "data": {
            "text/plain": [
              "<matplotlib.legend.Legend at 0x7f4a5c1832e0>"
            ]
          },
          "metadata": {},
          "execution_count": 56
        },
        {
          "output_type": "display_data",
          "data": {
            "text/plain": [
              "<Figure size 432x288 with 1 Axes>"
            ],
            "image/png": "[encoded data removed]"
          },
          "metadata": {
            "needs_background": "light"
          }
        }
      ]
    },
    {
      "cell_type": "code",
      "source": [
        "train_loss, train_accuracy = model.evaluate(x_train_normalized, y_train)\n",
        "\n",
        "print('Train loss: ', train_loss)\n",
        "print('Train accuracy: ', train_accuracy)\n",
        "\n"
      ],
      "metadata": {
        "colab": {
          "base_uri": "https://localhost:8080/"
        },
        "id": "3b5NbYmpE662",
        "outputId": "d264f0da-8e12-4543-a9ac-412940e0b095"
      },
      "execution_count": 58,
      "outputs": [
        {
          "output_type": "stream",
          "name": "stdout",
          "text": [
            "1875/1875 [==============================] - 14s 7ms/step - loss: 0.0261 - accuracy: 0.9914\n",
            "Train loss:  0.026053650304675102\n",
            "Train accuracy:  0.9913833141326904\n"
          ]
        }
      ]
    },
    {
      "cell_type": "code",
      "source": [
        "model_name = 'digits_recognition_cnn.h5'\n",
        "model.save(model_name, save_format='h5')\n",
        "\n",
        "loaded_model = tf.keras.models.load_model(model_name)\n",
        "\n"
      ],
      "metadata": {
        "id": "2cHB5JlrFbFn"
      },
      "execution_count": 59,
      "outputs": []
    },
    {
      "cell_type": "code",
      "source": [
        "predictions_one_hot = loaded_model.predict([x_test_normalized])\n",
        "print('predictions_one_hot:', predictions_one_hot.shape)"
      ],
      "metadata": {
        "colab": {
          "base_uri": "https://localhost:8080/"
        },
        "id": "cKoDEuNVFcMF",
        "outputId": "9a27183d-af28-4f25-d3cd-a3973b764759"
      },
      "execution_count": 60,
      "outputs": [
        {
          "output_type": "stream",
          "name": "stdout",
          "text": [
            "313/313 [==============================] - 3s 9ms/step\n",
            "predictions_one_hot: (10000, 10)\n"
          ]
        }
      ]
    },
    {
      "cell_type": "code",
      "source": [
        "\n",
        "\n",
        "pd.DataFrame(predictions_one_hot)\n",
        "\n"
      ],
      "metadata": {
        "colab": {
          "base_uri": "https://localhost:8080/",
          "height": 424
        },
        "id": "u1WPSTcxF2in",
        "outputId": "170a4c68-70f5-494d-e983-a74b1a71aa60"
      },
      "execution_count": 61,
      "outputs": [
        {
          "output_type": "execute_result",
          "data": {
            "text/plain": [
              "                 0             1             2             3             4  \\\n",
              "0     3.582457e-11  4.844804e-09  1.436559e-08  5.592653e-09  4.473297e-10   \n",
              "1     9.242603e-10  6.216395e-07  9.999993e-01  3.519504e-13  1.037551e-10   \n",
              "2     5.020005e-08  9.999458e-01  4.659384e-06  9.305060e-10  8.948931e-06   \n",
              "3     9.990981e-01  1.440083e-07  5.732720e-05  3.518552e-06  1.020729e-06   \n",
              "4     9.908707e-10  1.030608e-06  2.441251e-09  9.862615e-12  9.990087e-01   \n",
              "...            ...           ...           ...           ...           ...   \n",
              "9995  3.777644e-14  1.597141e-06  9.999869e-01  1.868326e-10  3.295275e-12   \n",
              "9996  1.316794e-11  1.142367e-06  8.171686e-09  9.999793e-01  1.911964e-11   \n",
              "9997  1.713882e-15  2.160359e-09  3.848017e-13  1.244952e-15  9.999998e-01   \n",
              "9998  1.797695e-11  1.707114e-11  6.801664e-14  7.313069e-08  5.827784e-12   \n",
              "9999  4.471572e-07  3.545806e-09  3.248406e-06  2.576665e-10  4.903754e-06   \n",
              "\n",
              "                 5             6             7             8             9  \n",
              "0     4.507545e-11  8.252207e-16  9.999999e-01  1.679257e-09  4.602807e-08  \n",
              "1     1.525069e-13  1.108393e-09  1.589689e-11  1.363271e-10  3.849248e-13  \n",
              "2     2.330902e-06  1.258696e-05  2.424868e-05  1.239250e-06  4.874984e-08  \n",
              "3     4.146487e-05  5.501919e-04  8.804395e-07  5.319413e-05  1.941333e-04  \n",
              "4     4.864791e-11  4.004380e-10  5.016295e-08  5.486629e-08  9.900633e-04  \n",
              "...            ...           ...           ...           ...           ...  \n",
              "9995  9.028587e-15  1.257849e-14  1.144176e-05  1.680894e-11  1.382378e-15  \n",
              "9996  1.899739e-05  1.231540e-12  1.602956e-08  8.846238e-09  5.248781e-07  \n",
              "9997  5.407954e-13  6.649534e-14  2.303250e-09  8.180554e-09  8.399687e-08  \n",
              "9998  9.999781e-01  1.072196e-06  4.588020e-14  2.058412e-05  1.959490e-09  \n",
              "9999  7.161155e-07  9.999905e-01  3.908642e-11  1.022624e-07  9.271854e-09  \n",
              "\n",
              "[10000 rows x 10 columns]"
            ],
            "text/html": [
              "\n",
              "  <div id=\"df-9d74d5eb-e6f2-4442-9fa7-b2258b8508c0\">\n",
              "    <div class=\"colab-df-container\">\n",
              "      <div>\n",
              "<style scoped>\n",
              "    .dataframe tbody tr th:only-of-type {\n",
              "        vertical-align: middle;\n",
              "    }\n",
              "\n",
              "    .dataframe tbody tr th {\n",
              "        vertical-align: top;\n",
              "    }\n",
              "\n",
              "    .dataframe thead th {\n",
              "        text-align: right;\n",
              "    }\n",
              "</style>\n",
              "<table border=\"1\" class=\"dataframe\">\n",
              "  <thead>\n",
              "    <tr style=\"text-align: right;\">\n",
              "      <th></th>\n",
              "      <th>0</th>\n",
              "      <th>1</th>\n",
              "      <th>2</th>\n",
              "      <th>3</th>\n",
              "      <th>4</th>\n",
              "      <th>5</th>\n",
              "      <th>6</th>\n",
              "      <th>7</th>\n",
              "      <th>8</th>\n",
              "      <th>9</th>\n",
              "    </tr>\n",
              "  </thead>\n",
              "  <tbody>\n",
              "    <tr>\n",
              "      <th>0</th>\n",
              "      <td>3.582457e-11</td>\n",
              "      <td>4.844804e-09</td>\n",
              "      <td>1.436559e-08</td>\n",
              "      <td>5.592653e-09</td>\n",
              "      <td>4.473297e-10</td>\n",
              "      <td>4.507545e-11</td>\n",
              "      <td>8.252207e-16</td>\n",
              "      <td>9.999999e-01</td>\n",
              "      <td>1.679257e-09</td>\n",
              "      <td>4.602807e-08</td>\n",
              "    </tr>\n",
              "    <tr>\n",
              "      <th>1</th>\n",
              "      <td>9.242603e-10</td>\n",
              "      <td>6.216395e-07</td>\n",
              "      <td>9.999993e-01</td>\n",
              "      <td>3.519504e-13</td>\n",
              "      <td>1.037551e-10</td>\n",
              "      <td>1.525069e-13</td>\n",
              "      <td>1.108393e-09</td>\n",
              "      <td>1.589689e-11</td>\n",
              "      <td>1.363271e-10</td>\n",
              "      <td>3.849248e-13</td>\n",
              "    </tr>\n",
              "    <tr>\n",
              "      <th>2</th>\n",
              "      <td>5.020005e-08</td>\n",
              "      <td>9.999458e-01</td>\n",
              "      <td>4.659384e-06</td>\n",
              "      <td>9.305060e-10</td>\n",
              "      <td>8.948931e-06</td>\n",
              "      <td>2.330902e-06</td>\n",
              "      <td>1.258696e-05</td>\n",
              "      <td>2.424868e-05</td>\n",
              "      <td>1.239250e-06</td>\n",
              "      <td>4.874984e-08</td>\n",
              "    </tr>\n",
              "    <tr>\n",
              "      <th>3</th>\n",
              "      <td>9.990981e-01</td>\n",
              "      <td>1.440083e-07</td>\n",
              "      <td>5.732720e-05</td>\n",
              "      <td>3.518552e-06</td>\n",
              "      <td>1.020729e-06</td>\n",
              "      <td>4.146487e-05</td>\n",
              "      <td>5.501919e-04</td>\n",
              "      <td>8.804395e-07</td>\n",
              "      <td>5.319413e-05</td>\n",
              "      <td>1.941333e-04</td>\n",
              "    </tr>\n",
              "    <tr>\n",
              "      <th>4</th>\n",
              "      <td>9.908707e-10</td>\n",
              "      <td>1.030608e-06</td>\n",
              "      <td>2.441251e-09</td>\n",
              "      <td>9.862615e-12</td>\n",
              "      <td>9.990087e-01</td>\n",
              "      <td>4.864791e-11</td>\n",
              "      <td>4.004380e-10</td>\n",
              "      <td>5.016295e-08</td>\n",
              "      <td>5.486629e-08</td>\n",
              "      <td>9.900633e-04</td>\n",
              "    </tr>\n",
              "    <tr>\n",
              "      <th>...</th>\n",
              "      <td>...</td>\n",
              "      <td>...</td>\n",
              "      <td>...</td>\n",
              "      <td>...</td>\n",
              "      <td>...</td>\n",
              "      <td>...</td>\n",
              "      <td>...</td>\n",
              "      <td>...</td>\n",
              "      <td>...</td>\n",
              "      <td>...</td>\n",
              "    </tr>\n",
              "    <tr>\n",
              "      <th>9995</th>\n",
              "      <td>3.777644e-14</td>\n",
              "      <td>1.597141e-06</td>\n",
              "      <td>9.999869e-01</td>\n",
              "      <td>1.868326e-10</td>\n",
              "      <td>3.295275e-12</td>\n",
              "      <td>9.028587e-15</td>\n",
              "      <td>1.257849e-14</td>\n",
              "      <td>1.144176e-05</td>\n",
              "      <td>1.680894e-11</td>\n",
              "      <td>1.382378e-15</td>\n",
              "    </tr>\n",
              "    <tr>\n",
              "      <th>9996</th>\n",
              "      <td>1.316794e-11</td>\n",
              "      <td>1.142367e-06</td>\n",
              "      <td>8.171686e-09</td>\n",
              "      <td>9.999793e-01</td>\n",
              "      <td>1.911964e-11</td>\n",
              "      <td>1.899739e-05</td>\n",
              "      <td>1.231540e-12</td>\n",
              "      <td>1.602956e-08</td>\n",
              "      <td>8.846238e-09</td>\n",
              "      <td>5.248781e-07</td>\n",
              "    </tr>\n",
              "    <tr>\n",
              "      <th>9997</th>\n",
              "      <td>1.713882e-15</td>\n",
              "      <td>2.160359e-09</td>\n",
              "      <td>3.848017e-13</td>\n",
              "      <td>1.244952e-15</td>\n",
              "      <td>9.999998e-01</td>\n",
              "      <td>5.407954e-13</td>\n",
              "      <td>6.649534e-14</td>\n",
              "      <td>2.303250e-09</td>\n",
              "      <td>8.180554e-09</td>\n",
              "      <td>8.399687e-08</td>\n",
              "    </tr>\n",
              "    <tr>\n",
              "      <th>9998</th>\n",
              "      <td>1.797695e-11</td>\n",
              "      <td>1.707114e-11</td>\n",
              "      <td>6.801664e-14</td>\n",
              "      <td>7.313069e-08</td>\n",
              "      <td>5.827784e-12</td>\n",
              "      <td>9.999781e-01</td>\n",
              "      <td>1.072196e-06</td>\n",
              "      <td>4.588020e-14</td>\n",
              "      <td>2.058412e-05</td>\n",
              "      <td>1.959490e-09</td>\n",
              "    </tr>\n",
              "    <tr>\n",
              "      <th>9999</th>\n",
              "      <td>4.471572e-07</td>\n",
              "      <td>3.545806e-09</td>\n",
              "      <td>3.248406e-06</td>\n",
              "      <td>2.576665e-10</td>\n",
              "      <td>4.903754e-06</td>\n",
              "      <td>7.161155e-07</td>\n",
              "      <td>9.999905e-01</td>\n",
              "      <td>3.908642e-11</td>\n",
              "      <td>1.022624e-07</td>\n",
              "      <td>9.271854e-09</td>\n",
              "    </tr>\n",
              "  </tbody>\n",
              "</table>\n",
              "<p>10000 rows × 10 columns</p>\n",
              "</div>\n",
              "      <button class=\"colab-df-convert\" onclick=\"convertToInteractive('df-9d74d5eb-e6f2-4442-9fa7-b2258b8508c0')\"\n",
              "              title=\"Convert this dataframe to an interactive table.\"\n",
              "              style=\"display:none;\">\n",
              "        \n",
              "  <svg xmlns=\"http://www.w3.org/2000/svg\" height=\"24px\"viewBox=\"0 0 24 24\"\n",
              "       width=\"24px\">\n",
              "    <path d=\"M0 0h24v24H0V0z\" fill=\"none\"/>\n",
              "    <path d=\"M18.56 5.44l.94 2.06.94-2.06 2.06-.94-2.06-.94-.94-2.06-.94 2.06-2.06.94zm-11 1L8.5 8.5l.94-2.06 2.06-.94-2.06-.94L8.5 2.5l-.94 2.06-2.06.94zm10 10l.94 2.06.94-2.06 2.06-.94-2.06-.94-.94-2.06-.94 2.06-2.06.94z\"/><path d=\"M17.41 7.96l-1.37-1.37c-.4-.4-.92-.59-1.43-.59-.52 0-1.04.2-1.43.59L10.3 9.45l-7.72 7.72c-.78.78-.78 2.05 0 2.83L4 21.41c.39.39.9.59 1.41.59.51 0 1.02-.2 1.41-.59l7.78-7.78 2.81-2.81c.8-.78.8-2.07 0-2.86zM5.41 20L4 18.59l7.72-7.72 1.47 1.35L5.41 20z\"/>\n",
              "  </svg>\n",
              "      </button>\n",
              "      \n",
              "  <style>\n",
              "    .colab-df-container {\n",
              "      display:flex;\n",
              "      flex-wrap:wrap;\n",
              "      gap: 12px;\n",
              "    }\n",
              "\n",
              "    .colab-df-convert {\n",
              "      background-color: #E8F0FE;\n",
              "      border: none;\n",
              "      border-radius: 50%;\n",
              "      cursor: pointer;\n",
              "      display: none;\n",
              "      fill: #1967D2;\n",
              "      height: 32px;\n",
              "      padding: 0 0 0 0;\n",
              "      width: 32px;\n",
              "    }\n",
              "\n",
              "    .colab-df-convert:hover {\n",
              "      background-color: #E2EBFA;\n",
              "      box-shadow: 0px 1px 2px rgba(60, 64, 67, 0.3), 0px 1px 3px 1px rgba(60, 64, 67, 0.15);\n",
              "      fill: #174EA6;\n",
              "    }\n",
              "\n",
              "    [theme=dark] .colab-df-convert {\n",
              "      background-color: #3B4455;\n",
              "      fill: #D2E3FC;\n",
              "    }\n",
              "\n",
              "    [theme=dark] .colab-df-convert:hover {\n",
              "      background-color: #434B5C;\n",
              "      box-shadow: 0px 1px 3px 1px rgba(0, 0, 0, 0.15);\n",
              "      filter: drop-shadow(0px 1px 2px rgba(0, 0, 0, 0.3));\n",
              "      fill: #FFFFFF;\n",
              "    }\n",
              "  </style>\n",
              "\n",
              "      <script>\n",
              "        const buttonEl =\n",
              "          document.querySelector('#df-9d74d5eb-e6f2-4442-9fa7-b2258b8508c0 button.colab-df-convert');\n",
              "        buttonEl.style.display =\n",
              "          google.colab.kernel.accessAllowed ? 'block' : 'none';\n",
              "\n",
              "        async function convertToInteractive(key) {\n",
              "          const element = document.querySelector('#df-9d74d5eb-e6f2-4442-9fa7-b2258b8508c0');\n",
              "          const dataTable =\n",
              "            await google.colab.kernel.invokeFunction('convertToInteractive',\n",
              "                                                     [key], {});\n",
              "          if (!dataTable) return;\n",
              "\n",
              "          const docLinkHtml = 'Like what you see? Visit the ' +\n",
              "            '<a target=\"_blank\" href=https://colab.research.google.com/notebooks/data_table.ipynb>data table notebook</a>'\n",
              "            + ' to learn more about interactive tables.';\n",
              "          element.innerHTML = '';\n",
              "          dataTable['output_type'] = 'display_data';\n",
              "          await google.colab.output.renderOutput(dataTable, element);\n",
              "          const docLink = document.createElement('div');\n",
              "          docLink.innerHTML = docLinkHtml;\n",
              "          element.appendChild(docLink);\n",
              "        }\n",
              "      </script>\n",
              "    </div>\n",
              "  </div>\n",
              "  "
            ]
          },
          "metadata": {},
          "execution_count": 61
        }
      ]
    },
    {
      "cell_type": "code",
      "source": [
        "predictions_one_hot = loaded_model.predict(np.array([x_test_normalized[0]]))\n"
      ],
      "metadata": {
        "colab": {
          "base_uri": "https://localhost:8080/"
        },
        "id": "akM_rVGVHFF5",
        "outputId": "b21c5503-58d0-4d00-d736-10d8a248d9fc"
      },
      "execution_count": 106,
      "outputs": [
        {
          "output_type": "stream",
          "name": "stdout",
          "text": [
            "1/1 [==============================] - 0s 44ms/step\n"
          ]
        }
      ]
    },
    {
      "cell_type": "code",
      "source": [],
      "metadata": {
        "id": "uQfdHa-oKyqe"
      },
      "execution_count": 106,
      "outputs": []
    },
    {
      "cell_type": "code",
      "source": [
        "item = 9999\n",
        "predictions_one_hot = loaded_model.predict(np.array([x_test_normalized[item]]))\n",
        "print('expected : ' , y_test[item])\n",
        "print('predictions_one_hot:', np.argmax(\n",
        "    predictions_one_hot\n",
        ")\n",
        ")\n",
        "plt.imshow(x_test_normalized[item].reshape((IMAGE_WIDTH, IMAGE_HEIGHT)), cmap=plt.cm.binary)\n",
        "plt.show()\n",
        "\n"
      ],
      "metadata": {
        "colab": {
          "base_uri": "https://localhost:8080/",
          "height": 317
        },
        "id": "Lj2eQmhpF-nJ",
        "outputId": "c4237f5d-2c5d-44d7-b228-4e1388c7a5c2"
      },
      "execution_count": 128,
      "outputs": [
        {
          "output_type": "stream",
          "name": "stdout",
          "text": [
            "1/1 [==============================] - 0s 43ms/step\n",
            "expected :  6\n",
            "predictions_one_hot: 6\n"
          ]
        },
        {
          "output_type": "display_data",
          "data": {
            "text/plain": [
              "<Figure size 432x288 with 1 Axes>"
            ],
            "image/png": "[encoded data removed]"
          },
          "metadata": {
            "needs_background": "light"
          }
        }
      ]
    }
  ]
}
